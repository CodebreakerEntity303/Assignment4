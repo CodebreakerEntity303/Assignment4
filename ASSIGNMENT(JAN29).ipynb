{
 "cells": [
  {
   "cell_type": "code",
   "execution_count": 4,
   "id": "23ef34a3",
   "metadata": {},
   "outputs": [
    {
     "name": "stdout",
     "output_type": "stream",
     "text": [
      "Guido Van Russom\n"
     ]
    }
   ],
   "source": [
    "#Q1\n",
    "print(\"Guido Van Russom\")"
   ]
  },
  {
   "cell_type": "code",
   "execution_count": 5,
   "id": "a059d5ab",
   "metadata": {},
   "outputs": [
    {
     "name": "stdout",
     "output_type": "stream",
     "text": [
      "Modular Programming\n"
     ]
    }
   ],
   "source": [
    "#Q2\n",
    "print(\"Modular Programming\")"
   ]
  },
  {
   "cell_type": "code",
   "execution_count": 6,
   "id": "cae2946b",
   "metadata": {},
   "outputs": [
    {
     "name": "stdout",
     "output_type": "stream",
     "text": [
      "Yes\n"
     ]
    }
   ],
   "source": [
    "#Q3\n",
    "print(\"Yes\")"
   ]
  },
  {
   "cell_type": "code",
   "execution_count": 7,
   "id": "f4d25bc1",
   "metadata": {},
   "outputs": [
    {
     "name": "stdout",
     "output_type": "stream",
     "text": [
      ".py\n"
     ]
    }
   ],
   "source": [
    "#Q4\n",
    "print(\".py\")"
   ]
  },
  {
   "cell_type": "code",
   "execution_count": 8,
   "id": "477528a6",
   "metadata": {},
   "outputs": [
    {
     "name": "stdout",
     "output_type": "stream",
     "text": [
      "Python code is intrepreted\n"
     ]
    }
   ],
   "source": [
    "#Q5\n",
    "print(\"Python code is intrepreted\")"
   ]
  },
  {
   "cell_type": "code",
   "execution_count": 9,
   "id": "01eae46d",
   "metadata": {},
   "outputs": [
    {
     "name": "stdout",
     "output_type": "stream",
     "text": [
      "curly braces {}, round braces ()\n"
     ]
    }
   ],
   "source": [
    "#Q6\n",
    "print(\"curly braces {}, round braces ()\")"
   ]
  },
  {
   "cell_type": "code",
   "execution_count": 10,
   "id": "09e2156e",
   "metadata": {},
   "outputs": [
    {
     "name": "stdout",
     "output_type": "stream",
     "text": [
      "#\n"
     ]
    }
   ],
   "source": [
    "#Q7\n",
    "print(\"#\")"
   ]
  },
  {
   "cell_type": "code",
   "execution_count": 12,
   "id": "0eeaccdb",
   "metadata": {},
   "outputs": [
    {
     "name": "stdout",
     "output_type": "stream",
     "text": [
      "on cmd type 'python --version'  or system.version \n"
     ]
    }
   ],
   "source": [
    "#Q8\n",
    "print(\"on cmd type 'python --version'  or system.version \")"
   ]
  },
  {
   "cell_type": "code",
   "execution_count": 13,
   "id": "4fee3c4a",
   "metadata": {},
   "outputs": [
    {
     "name": "stdout",
     "output_type": "stream",
     "text": [
      "--\n"
     ]
    }
   ],
   "source": [
    "#Q9\n",
    "print(\"--\")"
   ]
  },
  {
   "cell_type": "code",
   "execution_count": 14,
   "id": "c861992c",
   "metadata": {},
   "outputs": [
    {
     "name": "stdout",
     "output_type": "stream",
     "text": [
      "pip = PIP INSTALL PACKAGES\n"
     ]
    }
   ],
   "source": [
    "#Q10\n",
    "print(\"pip = PIP INSTALL PACKAGES\")"
   ]
  },
  {
   "cell_type": "code",
   "execution_count": 15,
   "id": "19e3375e",
   "metadata": {},
   "outputs": [
    {
     "name": "stdout",
     "output_type": "stream",
     "text": [
      "print(), input(), def()\n"
     ]
    }
   ],
   "source": [
    "#Q11\n",
    "print(\"print(), input(), def()\")"
   ]
  },
  {
   "cell_type": "code",
   "execution_count": 16,
   "id": "6f76e906",
   "metadata": {},
   "outputs": [
    {
     "name": "stdout",
     "output_type": "stream",
     "text": [
      "79 characters\n"
     ]
    }
   ],
   "source": [
    "#Q12\n",
    "print(\"79 characters\")"
   ]
  },
  {
   "cell_type": "code",
   "execution_count": 17,
   "id": "a307e8ae",
   "metadata": {},
   "outputs": [
    {
     "name": "stdout",
     "output_type": "stream",
     "text": [
      "(A) Python is loosely typed language.\n",
      "        (B) Modular programming where programs are divided in modules.\n",
      "        (C) Python is Machine Independent.\n"
     ]
    }
   ],
   "source": [
    "#Q13\n",
    "print('''(A) Python is loosely typed language.\n",
    "        (B) Modular programming where programs are divided in modules.\n",
    "        (C) Python is Machine Independent.''')"
   ]
  },
  {
   "cell_type": "code",
   "execution_count": 18,
   "id": "4ff7a354",
   "metadata": {},
   "outputs": [
    {
     "name": "stdout",
     "output_type": "stream",
     "text": [
      "Dynamic memory allocation.\n"
     ]
    }
   ],
   "source": [
    "#Q14\n",
    "print(\"Dynamic memory allocation.\")"
   ]
  },
  {
   "cell_type": "code",
   "execution_count": 21,
   "id": "9f582bd9",
   "metadata": {},
   "outputs": [
    {
     "name": "stdout",
     "output_type": "stream",
     "text": [
      "Install python idle latest version from Python oficial website , while setting up the .exe file, make sure to check all python checkboxes like (shortcut), default path(), and most importantly to check pip extension used to install python packages later.\n",
      "\n"
     ]
    }
   ],
   "source": [
    "#Q15\n",
    "print('''Install python idle latest version from Python oficial website , while setting up the .exe file, make sure to check all python checkboxes like (shortcut), default path(), and most importantly to check pip extension used to install python packages later.\n",
    "''')"
   ]
  },
  {
   "cell_type": "code",
   "execution_count": 22,
   "id": "d6fea102",
   "metadata": {},
   "outputs": [
    {
     "name": "stdout",
     "output_type": "stream",
     "text": [
      "Yes, identation is the core of python syntax.\n"
     ]
    }
   ],
   "source": [
    "#Q16\n",
    "print(\"Yes, identation is the core of python syntax.\")"
   ]
  }
 ],
 "metadata": {
  "kernelspec": {
   "display_name": "Python 3 (ipykernel)",
   "language": "python",
   "name": "python3"
  },
  "language_info": {
   "codemirror_mode": {
    "name": "ipython",
    "version": 3
   },
   "file_extension": ".py",
   "mimetype": "text/x-python",
   "name": "python",
   "nbconvert_exporter": "python",
   "pygments_lexer": "ipython3",
   "version": "3.10.9"
  }
 },
 "nbformat": 4,
 "nbformat_minor": 5
}
